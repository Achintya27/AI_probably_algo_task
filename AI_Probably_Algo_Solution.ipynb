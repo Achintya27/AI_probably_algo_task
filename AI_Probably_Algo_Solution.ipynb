{
 "cells": [
  {
   "cell_type": "markdown",
   "metadata": {},
   "source": [
    "## I have used 3 techniques on the problem to solve"
   ]
  },
  {
   "cell_type": "code",
   "execution_count": 86,
   "metadata": {},
   "outputs": [],
   "source": [
    "def alphabet_count1(s):\n",
    "    count=1\n",
    "    i = 1\n",
    "    final = \"\"\n",
    "    pre = s[0]\n",
    "    n = len(s)\n",
    "    while (i < n):\n",
    "        if s[i] == pre:\n",
    "            count+=1\n",
    "        else:\n",
    "            final = final + pre + str(count)\n",
    "            pre = s[i]\n",
    "            count = 1\n",
    "        if i == n-1:\n",
    "            final = final + pre +str(count)\n",
    "        i+=1\n",
    "    return(print(final))\n",
    "\n",
    "# By using dictionary\n",
    "\n",
    "def alphabet_count2(s):\n",
    "    \n",
    "    count = {}\n",
    "    for i in s:\n",
    "       \n",
    "       if i in count:\n",
    "            count[i] += 1\n",
    "      \n",
    "       else:\n",
    "            count[i] = 1\n",
    "    return(print(str(count)))\n",
    "\n",
    "# By using set\n",
    "\n",
    "def alphabet_count3(s):\n",
    "    \n",
    "    count = {}\n",
    "    \n",
    "    count ={i: s.count(i) for i in set(s)}\n",
    "    \n",
    "    return(print(str(count)))   "
   ]
  },
  {
   "cell_type": "code",
   "execution_count": 87,
   "metadata": {},
   "outputs": [
    {
     "name": "stdout",
     "output_type": "stream",
     "text": [
      "a3b3c2d4a4\n",
      "{'a': 7, 'b': 3, 'c': 2, 'd': 4}\n",
      "{'b': 3, 'c': 2, 'd': 4, 'a': 7}\n"
     ]
    }
   ],
   "source": [
    "alphabet_count1('aaabbbccddddaaaa')\n",
    "alphabet_count2('aaabbbccddddaaaa')\n",
    "alphabet_count3('aaabbbccddddaaaa')"
   ]
  },
  {
   "cell_type": "code",
   "execution_count": null,
   "metadata": {},
   "outputs": [],
   "source": []
  }
 ],
 "metadata": {
  "kernelspec": {
   "display_name": "Python 3",
   "language": "python",
   "name": "python3"
  },
  "language_info": {
   "codemirror_mode": {
    "name": "ipython",
    "version": 3
   },
   "file_extension": ".py",
   "mimetype": "text/x-python",
   "name": "python",
   "nbconvert_exporter": "python",
   "pygments_lexer": "ipython3",
   "version": "3.7.3"
  }
 },
 "nbformat": 4,
 "nbformat_minor": 4
}
